{
 "cells": [
  {
   "cell_type": "markdown",
   "metadata": {
    "colab_type": "text",
    "id": "m83zHtYzsEYi"
   },
   "source": [
    "  # Download TQA"
   ]
  },
  {
   "cell_type": "code",
   "execution_count": null,
   "metadata": {
    "colab": {},
    "colab_type": "code",
    "collapsed": true,
    "id": "Rdqcl1b2zrgM"
   },
   "outputs": [],
   "source": [
    "import requests\n",
    "from tqdm import tqdm\n",
    "import math\n",
    "import zipfile"
   ]
  },
  {
   "cell_type": "code",
   "execution_count": 2,
   "metadata": {
    "colab": {
     "base_uri": "https://localhost:8080/",
     "height": 34
    },
    "colab_type": "code",
    "id": "-2G6O3vfDplP",
    "outputId": "205cab44-b1dc-4222-afb2-1280bc87c99c"
   },
   "outputs": [
    {
     "name": "stderr",
     "output_type": "stream",
     "text": [
      "tqa_train_val_test.zip: 1715758KB [00:39, 43496.99KB/s]                               \n"
     ]
    }
   ],
   "source": [
    "url = \"https://s3.amazonaws.com/ai2-vision-textbook-dataset/dataset_releases/tqa/tqa_train_val_test.zip\"\n",
    "\n",
    "r = requests.get(url, stream=True)\n",
    "total_size = int(r.headers.get('content-length', 0))\n",
    "block_size = 1024\n",
    "wrote = 0 \n",
    "with open(\"tqa_train_val_test.zip\", 'wb') as f:\n",
    "  for data in tqdm(r.iter_content(block_size), total=math.ceil(total_size//block_size) , unit='KB', desc = \"tqa_train_val_test.zip\", leave = True):\n",
    "    wrote = wrote  + len(data)\n",
    "    f.write(data)\n",
    "if total_size != 0 and wrote != total_size:\n",
    "  print(\"ERROR, something went wrong\")\n",
    "f.close\n",
    "zip_ref = zipfile.ZipFile(\"tqa_train_val_test.zip\", 'r')\n",
    "zip_ref.extractall(\".\")\n",
    "zip_ref.close()"
   ]
  },
  {
   "cell_type": "code",
   "execution_count": 1,
   "metadata": {
    "colab": {
     "base_uri": "https://localhost:8080/",
     "height": 34
    },
    "colab_type": "code",
    "id": "Kjvi_oS2lKCd",
    "outputId": "d6a95e6d-1b04-418e-bd51-565ecc142b79",
    "scrolled": true
   },
   "outputs": [
    {
     "name": "stdout",
     "output_type": "stream",
     "text": [
      "CVPR17_TQA.pdf\tREADME.md  test  train\tval\n"
     ]
    }
   ],
   "source": [
    "!ls \"./tqa_train_val_test\""
   ]
  },
  {
   "cell_type": "markdown",
   "metadata": {
    "colab_type": "text",
    "id": "p3JV-LsoZpJt"
   },
   "source": [
    "# Corpus loading"
   ]
  },
  {
   "cell_type": "code",
   "execution_count": 2,
   "metadata": {
    "colab": {
     "base_uri": "https://localhost:8080/",
     "height": 34
    },
    "colab_type": "code",
    "id": "atZabICnuEte",
    "outputId": "1d7c3ec0-5ffd-4b65-9cea-cb1530876b36",
    "scrolled": true
   },
   "outputs": [
    {
     "name": "stderr",
     "output_type": "stream",
     "text": [
      "Using TensorFlow backend.\n"
     ]
    }
   ],
   "source": [
    "import json\n",
    "import sys\n",
    "from keras.preprocessing.text import Tokenizer\n",
    "from keras.preprocessing.sequence import pad_sequences\n",
    "from sklearn.preprocessing import MultiLabelBinarizer\n",
    "from sklearn.feature_extraction.text import TfidfVectorizer\n",
    "import numpy as np\n",
    "from collections import OrderedDict\n",
    "from keras.applications.vgg19 import VGG19\n",
    "from PIL import Image\n",
    "from keras.models import Sequential\n",
    "from keras.layers import InputLayer, BatchNormalization, Conv2D, MaxPooling2D"
   ]
  },
  {
   "cell_type": "code",
   "execution_count": null,
   "metadata": {},
   "outputs": [],
   "source": [
    "question_type = \"diagramQuestions\"\n",
    "#question_type = \"nonDiagramQuestions\"\n",
    "\n",
    "weights = \"cross\"\n",
    "#weights = \"cross-vecsi\""
   ]
  },
  {
   "cell_type": "code",
   "execution_count": null,
   "metadata": {
    "colab": {},
    "colab_type": "code",
    "collapsed": true,
    "id": "y_8xHOhHuEtj"
   },
   "outputs": [],
   "source": [
    "train_folder = \"./tqa_train_val_test/train/\"\n",
    "train_json = \"./tqa_train_val_test/train/tqa_v1_train.json\"\n",
    "test_folder = \"./tqa_train_val_test/test/\"\n",
    "test_json = \"./tqa_train_val_test/test/tqa_v2_test.json\"\n",
    "val_folder = \"./tqa_train_val_test/val/\"\n",
    "val_json = \"./tqa_train_val_test/val/tqa_v1_val.json\"\n",
    "\n",
    "dataset_jsons = [train_json,test_json,val_json]\n",
    "dataset_folders = [train_folder,test_folder,val_folder]"
   ]
  },
  {
   "cell_type": "markdown",
   "metadata": {
    "colab_type": "text",
    "id": "a7EFn6xjZUz4"
   },
   "source": [
    "## Data loading"
   ]
  },
  {
   "cell_type": "code",
   "execution_count": null,
   "metadata": {
    "colab": {},
    "colab_type": "code",
    "collapsed": true,
    "id": "vmZ1WM5LuEtn"
   },
   "outputs": [],
   "source": [
    "# Read the articles dataset that will be used to train and validate the model.\n",
    "def data_extraction(dataset_folders, dataset_jsons):\n",
    "    count = 0\n",
    "    #Prepare data\n",
    "    paragraphs = []\n",
    "    figures_paragraphs = []\n",
    "    questions = []\n",
    "    figures_questions = []\n",
    "    list_answers = [[],[],[],[]]\n",
    "    correct_answers = []\n",
    "    question_types = []\n",
    "    split_cont = 0\n",
    "    for dataset_json in dataset_jsons:\n",
    "        folder = dataset_folders[split_cont]\n",
    "        split_cont = split_cont+1\n",
    "        with open(dataset_json, \"r\") as file:\n",
    "            dataset = json.load(file)\n",
    "\n",
    "        for doc in dataset:\n",
    "            count=count+1\n",
    "            sys.stdout.write(\"\\r%d lessons processed\" % count)\n",
    "            sys.stdout.flush()\n",
    "\n",
    "            question_list = [x for x in doc[\"questions\"][question_type]]\n",
    "            for question_id in question_list:\n",
    "                n_answers = len (doc[\"questions\"][question_type][question_id][\"answerChoices\"])\n",
    "                \n",
    "                if(n_answers!=4 or question_id == \"NDQ_005923\" or question_id == \"NDQ_006171\" or question_id == \"NDQ_004046\" or question_id ==\"NDQ_016510\" or doc[\"questions\"][question_type][question_id][\"questionSubType\"] != \"Multiple Choice\"):\n",
    "                    continue\n",
    "\n",
    "                #Questions\n",
    "                questions_getter(folder, doc, question_id, question_type, questions,figures_questions)\n",
    "\n",
    "                #Context\n",
    "                context_getter(folder, doc, question_id, question_type, paragraphs, figures_paragraphs)\n",
    "\n",
    "                #Answers\n",
    "                answers_getter(doc, question_id, question_type, n_answers, list_answers)\n",
    "\n",
    "                #Correct Answer (labeling)\n",
    "                label_getter(doc, question_id, question_type, correct_answers)\n",
    "\n",
    "    data_raw = [paragraphs,questions,list_answers[0],list_answers[1],list_answers[2],list_answers[3]]\n",
    "    figures = [figures_paragraphs,figures_questions]\n",
    "    print(\"\\n\")\n",
    "\n",
    "    return data_raw, figures, correct_answers\n",
    "    \n",
    "def questions_getter(folder, doc, question_id, question_type, questions,figures_questions):\n",
    "    question = doc[\"questions\"][question_type][question_id][\"beingAsked\"][\"processedText\"]\n",
    "    if(question_type == \"diagramQuestions\"):\n",
    "      figure_path = folder+doc[\"questions\"][question_type][question_id][\"imagePath\"]\n",
    "      figure_file = open(figure_path, 'rb')\n",
    "      figure = Image.open(figure_file)\n",
    "      figure_resized = figure.resize((224,224), Image.ANTIALIAS)\n",
    "      figure_array = np.array(figure_resized)\n",
    "      figure.close()\n",
    "      figure_file.close()\n",
    "    if(question_type==\"nonDiagramQuestions\"):\n",
    "      figure_array = np.zeros((224,224,3))\n",
    "    figures_questions.append(figure_array)\n",
    "    questions.append(question)\n",
    "def context_getter(folder, doc, question_id, question_type, paragraphs, figures_paragraphs):\n",
    "    question = doc[\"questions\"][question_type][question_id][\"beingAsked\"][\"processedText\"]\n",
    "    topics = [x for x in doc[\"topics\"]]\n",
    "    documents = []\n",
    "    figs = []\n",
    "    documents.append(question)\n",
    "    figs.append(\"\")\n",
    "    for topic in topics:\n",
    "      paragraph = doc[\"topics\"][topic][\"content\"][\"text\"]\n",
    "      figure_path = \"\"\n",
    "      if len(doc[\"topics\"][topic][\"content\"][\"figures\"])>0:\n",
    "        figure_path = folder+doc[\"topics\"][topic][\"content\"][\"figures\"][0][\"imagePath\"]\n",
    "      figs.append(figure_path)\n",
    "      documents.append(paragraph)\n",
    "    tfidf = TfidfVectorizer().fit_transform(documents)\n",
    "    pairwise_similarity = tfidf * tfidf.T\n",
    "    score_max_index = np.argmax(pairwise_similarity[0,1:])+1\n",
    "    score_max_paragraph = documents[score_max_index]\n",
    "    score_max_figure = figs [score_max_index]\n",
    "    score_max = pairwise_similarity[0,score_max_index]\n",
    "    chosen_paragraph = score_max_paragraph\n",
    "    chosen_figure = score_max_figure\n",
    "    if chosen_figure == \"\":\n",
    "        figure_array = np.zeros((224,224,3))\n",
    "    else:\n",
    "        figure_file = open(chosen_figure, 'rb')\n",
    "        figure = Image.open(figure_file)\n",
    "        figure_resized = figure.resize((224,224), Image.ANTIALIAS)\n",
    "        figure_array = np.array(figure_resized)\n",
    "        figure.close()\n",
    "        figure_file.close()\n",
    "    figures_paragraphs.append(figure_array)\n",
    "    paragraphs.append(chosen_paragraph)\n",
    "def answers_getter(doc, question_id,question_type,n_answers,list_answers):\n",
    "    letter_list=[\"a\",\"b\",\"c\",\"d\"]\n",
    "    for i in range(4):\n",
    "        if(i < n_answers):\n",
    "            letter = letter_list[i]\n",
    "            answer = doc[\"questions\"][question_type][question_id][\"answerChoices\"][letter][\"processedText\"]\n",
    "        else:\n",
    "            answer=\"\"\n",
    "        list_answers[i].append(answer)\n",
    "def label_getter(doc, question_id, question_type, correct_answers):   \n",
    "    correct_answer = doc[\"questions\"][question_type][question_id] [\"correctAnswer\"][\"processedText\"]\n",
    "    letter_list=[\"a\",\"b\",\"c\",\"d\"]\n",
    "    correct_array = np.zeros(4)\n",
    "    for i in range(4):\n",
    "        if(letter_list[i]==correct_answer):\n",
    "            correct_array[i]=1\n",
    "    correct_answers.append(correct_array)\n",
    "\n",
    "def data_refiner(data_raw,figures,correct_answers,tokenizer):\n",
    "    model = Sequential()\n",
    "    model.add(InputLayer(input_shape=(224,224,3)))\n",
    "    model.add(Conv2D(64, (3,3), padding = \"same\", activation=\"relu\"))\n",
    "    model.add(BatchNormalization())\n",
    "    model.add(Conv2D(64, (3,3), padding = \"same\", activation=\"relu\"))\n",
    "    model.add(BatchNormalization())\n",
    "    model.add(MaxPooling2D(2))\n",
    "    model.add(Conv2D(128, (3,3), padding = \"same\", activation=\"relu\"))\n",
    "    model.add(BatchNormalization())\n",
    "    model.add(Conv2D(128, (3,3), padding = \"same\", activation=\"relu\"))\n",
    "    model.add(BatchNormalization())\n",
    "    model.add(MaxPooling2D(2))\n",
    "    model.add(Conv2D(256, (3,3), padding = \"same\", activation=\"relu\"))\n",
    "    model.add(BatchNormalization())\n",
    "    model.add(Conv2D(256, (3,3), padding = \"same\", activation=\"relu\"))\n",
    "    model.add(BatchNormalization())\n",
    "    model.add(MaxPooling2D(2))\n",
    "    model.add(Conv2D(512, (3,3), padding = \"same\", activation=\"relu\"))\n",
    "    model.add(BatchNormalization())\n",
    "    model.add(Conv2D(512, (3,3), padding = \"same\", activation=\"relu\")) \n",
    "    model.add(BatchNormalization())\n",
    "    model.add(MaxPooling2D((28,28),2))\n",
    "    model.load_weights('./weights/'+weights+'-weights.h5')\n",
    "    count = 0\n",
    "    data =[]\n",
    "    for i in range(len(data_raw)):\n",
    "        if(i==0):\n",
    "            max_len = 630\n",
    "        else:\n",
    "            max_len=73\n",
    "        sequences = tokenizer.texts_to_sequences(data_raw[i])\n",
    "        data_refined = pad_sequences(sequences, maxlen=max_len, padding=\"post\", truncating=\"post\")\n",
    "        data.append(data_refined)\n",
    "        print(\"Shape of (\" + str(count) + \") data tensor:\" + str(data_refined.shape))\n",
    "        if(i == 0):\n",
    "            figure_feat = features_extraction(np.array(figures[0]),model)\n",
    "            data.append(figure_feat)\n",
    "            count = count+1\n",
    "            print(\"Shape of (\" + str(count) + \") data tensor:\" + str(figure_feat.shape))\n",
    "        if(i == 1):\n",
    "            figure_feat = features_extraction(np.array(figures[1]),model)\n",
    "            data.append(figure_feat)\n",
    "            count = count+1\n",
    "            print(\"Shape of (\" + str(count) + \") data tensor:\" + str(figure_feat.shape))\n",
    "        count = count+1\n",
    "    labels = np.array(correct_answers)\n",
    "    print(\"Shape of labels tensor:\", labels.shape)\n",
    "\n",
    "    print(\"\\n\")\n",
    "\n",
    "    return data, labels\n",
    "def features_extraction(figure,model):\n",
    "    features = model.predict(figure,batch_size=32,verbose=1)\n",
    "    return features"
   ]
  },
  {
   "cell_type": "code",
   "execution_count": null,
   "metadata": {
    "colab": {
     "base_uri": "https://localhost:8080/",
     "height": 119
    },
    "colab_type": "code",
    "id": "MeU7f0YHuEtt",
    "outputId": "87851325-aae7-464d-ce84-694e10d47c78"
   },
   "outputs": [
    {
     "name": "stdout",
     "output_type": "stream",
     "text": [
      "1076 lessons processed\n",
      "\n",
      "Found 16285 unique tokens.\n",
      "WARNING:tensorflow:From /usr/local/lib/python2.7/dist-packages/tensorflow/python/framework/op_def_library.py:263: colocate_with (from tensorflow.python.framework.ops) is deprecated and will be removed in a future version.\n",
      "Instructions for updating:\n",
      "Colocations handled automatically by placer.\n"
     ]
    }
   ],
   "source": [
    "data, figures, correct_answers = data_extraction(dataset_folders, dataset_jsons)\n",
    "\n",
    "#Data_refining\n",
    "texts = []\n",
    "\n",
    "for i in range(len(data[0])):\n",
    "    for j in range(len(data)):\n",
    "        texts.append(data[j][i])\n",
    "\n",
    "tokenizer = Tokenizer()\n",
    "tokenizer.fit_on_texts(texts)\n",
    "\n",
    "# Get the vocabulary index\n",
    "word_index = tokenizer.word_index\n",
    "print(\"Found %s unique tokens.\" % len(word_index))\n",
    "\n",
    "x, y = data_refiner(data, figures, correct_answers,tokenizer)"
   ]
  },
  {
   "cell_type": "markdown",
   "metadata": {
    "colab_type": "text",
    "id": "dEqV08GKap_c"
   },
   "source": [
    "## NN architecture definition and training"
   ]
  },
  {
   "cell_type": "code",
   "execution_count": null,
   "metadata": {
    "colab": {},
    "colab_type": "code",
    "collapsed": true,
    "id": "jJwTeDfKuEt4"
   },
   "outputs": [],
   "source": [
    "from keras.models import Model, Sequential\n",
    "from keras.layers import Embedding, Dense, Dropout, Bidirectional, LSTM, Lambda, InputLayer, Concatenate, BatchNormalization, Reshape\n",
    "from keras import backend as K\n",
    "from keras import optimizers\n",
    "from keras.metrics import categorical_accuracy\n",
    "import tensorflow as tf\n",
    "from sklearn.metrics import classification_report"
   ]
  },
  {
   "cell_type": "code",
   "execution_count": null,
   "metadata": {
    "colab": {},
    "colab_type": "code",
    "collapsed": true,
    "id": "Beks-lTDuEt6"
   },
   "outputs": [],
   "source": [
    "dim = 100\n",
    "dout = 0.5\n",
    "rdout = 0.5\n",
    "n_words = len(word_index)"
   ]
  },
  {
   "cell_type": "code",
   "execution_count": null,
   "metadata": {
    "colab": {},
    "colab_type": "code",
    "collapsed": true,
    "id": "5HXgngO2uEuB"
   },
   "outputs": [],
   "source": [
    "# add a layer that returns the concatenation\n",
    "# of the positive part of the input and\n",
    "# the opposite of the negative part\n",
    "\n",
    "def similarityMU(x):\n",
    "    M = x[0]\n",
    "    U = x[1]\n",
    "    S = tf.matmul(M,U, transpose_b=True)\n",
    "    res = tf.reduce_max(S,axis=2,keepdims=True)\n",
    "    return res\n",
    "\n",
    "def answerer(x):\n",
    "    a = x[0]\n",
    "    M = x[1]\n",
    "    M_t = tf.transpose(M, [0, 2, 1])\n",
    "    a_exp = tf.expand_dims(a, 1)\n",
    "    m = tf.multiply(a_exp,M_t)\n",
    "    res = tf.reduce_sum(m,axis=2,keepdims=True)\n",
    "    return res\n",
    "\n",
    "def similaritymC(x):\n",
    "    m = x[0]\n",
    "    C = x[1]\n",
    "    C1, C2, C3, C4 = tf.split(C, 4, 2)\n",
    "    C_list=[C1,C2,C3,C4]\n",
    "    res_tmp=[]\n",
    "    for C in C_list:\n",
    "        C_t = tf.transpose(C, [0, 2, 1])\n",
    "        C_sum = tf.reduce_sum(C_t, axis=2, keepdims=True)\n",
    "        res_tmp.append(tf.matmul(m, C_sum,transpose_a = True))\n",
    "    #res = tf.reduce_sum(tf.concat(res_tmp, 1),axis=2)\n",
    "    res = tf.concat(res_tmp, 1)\n",
    "    return res"
   ]
  },
  {
   "cell_type": "code",
   "execution_count": null,
   "metadata": {
    "colab": {},
    "colab_type": "code",
    "collapsed": true,
    "id": "I4S1Kvc1Ztbl"
   },
   "outputs": [],
   "source": [
    "from sklearn.model_selection import KFold\n",
    "from sklearn.metrics import f1_score, precision_score, recall_score\n",
    "\n",
    "kfold = KFold(n_splits=10, shuffle=True)\n",
    "precisions = []\n",
    "recalls = []\n",
    "f1s = []\n",
    "\n",
    "for train, test in kfold.split(x[0], y):\n",
    "    \n",
    "    x_train = []\n",
    "    x_test = []\n",
    "    for elem in x:\n",
    "        x_train.append(elem[train])\n",
    "        x_test.append(elem[test])\n",
    "    y_train = y[train]\n",
    "    y_test = y[test]\n",
    "    \n",
    "    modelM = Sequential()\n",
    "    modelM.add(InputLayer(input_shape=(630,),name=\"input_M\"))\n",
    "    modelM.add(Embedding(input_dim=n_words+1, output_dim=dim, input_length=630, embeddings_initializer=\"uniform\", trainable=True,name=\"embedding_M\"))\n",
    "    modelM.add(LSTM(units=dim, return_sequences=True, name=\"lstm_M\", dropout=dout, recurrent_dropout=rdout))\n",
    "\n",
    "    #VGG19M = VGG19(weights='imagenet', include_top=False)\n",
    "    #for layer in VGG19M.layers:\n",
    "    #    layer.name = layer.name + \"_MF\"\n",
    "\n",
    "    modelMF = Sequential()\n",
    "    modelMF.add(InputLayer(input_shape=(1,1,512,),name=\"input_MF\"))\n",
    "    modelMF.add(Reshape((1,512,),name=\"reshape_MF\"))\n",
    "    modelMF.add(Dense(256, activation=\"tanh\",name=\"perceptron_MF_1\"))\n",
    "    modelMF.add(Dense(dim, activation=\"tanh\",name=\"perceptron_MF_2\"))\n",
    "\n",
    "    modelInMMF = Concatenate(name = \"concatenateMMF\", axis=1)([modelM.output,modelMF.output])\n",
    "    modelMMF = Model([modelM.input,modelMF.input], modelInMMF)\n",
    "\n",
    "    modelU = Sequential()\n",
    "    modelU.add(InputLayer(input_shape=(73,),name=\"input_U\"))\n",
    "    modelU.add(Embedding(input_dim=n_words+1, output_dim=dim, input_length=73, embeddings_initializer=\"uniform\", trainable=True,name=\"embedding_U\"))\n",
    "    modelU.add(LSTM(units=dim, return_sequences=True, name=\"lstm_U\", dropout=dout, recurrent_dropout=rdout))\n",
    "\n",
    "    modelUF = Sequential()\n",
    "    modelUF.add(InputLayer(input_shape=(1,1,512,),name=\"input_UF\"))\n",
    "    modelUF.add(Reshape((1,512,),name=\"reshape_UF\"))\n",
    "    modelUF.add(Dense(256, activation=\"tanh\",name=\"perceptron_UF_1\"))\n",
    "    modelUF.add(Dense(dim, activation=\"tanh\",name=\"perceptron_UF_2\"))\n",
    "\n",
    "    modelInUUF = Concatenate(name = \"concatenateUUF\", axis=1)([modelU.output,modelUF.output])\n",
    "    modelUUF = Model([modelU.input,modelUF.input], modelInUUF)\n",
    "    \n",
    "    modelC1 = Sequential()\n",
    "    modelC1.add(InputLayer(input_shape=(73,),name=\"input_C1\"))\n",
    "    modelC1.add(Embedding(input_dim=n_words+1, output_dim=dim, input_length=73, embeddings_initializer=\"uniform\", trainable=True,name=\"embedding_C1\"))\n",
    "    modelC1.add(LSTM(units=dim, return_sequences=True, name=\"lstm_C1\", dropout=dout, recurrent_dropout=rdout))\n",
    "    modelC2 = Sequential()\n",
    "    modelC2.add(InputLayer(input_shape=(73,),name=\"input_C2\"))\n",
    "    modelC2.add(Embedding(input_dim=n_words+1, output_dim=dim, input_length=73, embeddings_initializer=\"uniform\", trainable=True,name=\"embedding_C2\"))\n",
    "    modelC2.add(LSTM(units=dim, return_sequences=True, name=\"lstm_C2\", dropout=dout, recurrent_dropout=rdout))\n",
    "    modelC3 = Sequential()\n",
    "    modelC3.add(InputLayer(input_shape=(73,),name=\"input_C3\"))\n",
    "    modelC3.add(Embedding(input_dim=n_words+1, output_dim=dim, input_length=73, embeddings_initializer=\"uniform\", trainable=True,name=\"embedding_C3\"))\n",
    "    modelC3.add(LSTM(units=dim, return_sequences=True, name=\"lstm_C3\", dropout=dout, recurrent_dropout=rdout))\n",
    "    modelC4 = Sequential()\n",
    "    modelC4.add(InputLayer(input_shape=(73,),name=\"input_C4\"))\n",
    "    modelC4.add(Embedding(input_dim=n_words+1, output_dim=dim, input_length=73, embeddings_initializer=\"uniform\", trainable=True,name=\"embedding_C4\"))\n",
    "    modelC4.add(LSTM(units=dim, return_sequences=True, name=\"lstm_C4\", dropout=dout, recurrent_dropout=rdout))\n",
    "\n",
    "    modelInC = Concatenate(name = \"concatenate\")([modelC1.output,modelC2.output,modelC3.output,modelC4.output])\n",
    "    modelC = Model([modelC1.input,modelC2.input,modelC3.input,modelC4.input], modelInC)\n",
    "\n",
    "    modelIna = Lambda(similarityMU, output_shape=(630+1,),name=\"similarityMU\")([modelMMF.output, modelUUF.output])\n",
    "    modelIna = Dense(630+1,activation=\"softmax\",name=\"softmax_a\")(modelIna)\n",
    "    modela = Model([modelM.input,modelMF.input,modelU.input,modelUF.input], modelIna)\n",
    "\n",
    "    modelInm = Lambda(answerer, output_shape=(dim,),name=\"answerer\") ([modela.output, modelMMF.output])\n",
    "    modelm = Model([modelM.input,modelMF.input,modelU.input,modelUF.input], modelInm)\n",
    "\n",
    "    modelIn = Lambda(similaritymC, output_shape=(4,),name=\"similaritymC\")([modelm.output,modelC.output])\n",
    "    modelIn = Dense(4, activation=\"softmax\",name=\"softmax_y\") (modelIn)\n",
    "    model = Model([modelM.input,modelMF.input,modelU.input,modelUF.input,modelC1.input,modelC2.input,modelC3.input,modelC4.input], modelIn)\n",
    "    \n",
    "    adam = optimizers.Adam(lr=1e-2, decay=0.0)\n",
    "    model.compile(loss=\"categorical_crossentropy\", optimizer=adam, metrics=[categorical_accuracy])\n",
    "    model.fit(x_train, y_train, batch_size=128, epochs=10, validation_data=(x_test, y_test), verbose=1)\n",
    "    \n",
    "    pred = model.predict(x_test, batch_size=128)\n",
    "    max_value = np.argmax(pred,axis=1)\n",
    "    predNew = np.zeros(np.shape(pred))\n",
    "    for i in range(len(predNew)):\n",
    "        predNew[i,max_value[i]]=1\n",
    "    print(classification_report(y_test, predNew, digits=4, target_names=[\"a\",\"b\",\"c\",\"d\"]))\n",
    "    precisions.append(precision_score(y_test, predNew, average=\"weighted\"))\n",
    "    recalls.append(recall_score(y_test, predNew, average=\"weighted\"))\n",
    "    f1s.append(f1_score(y_test, predNew, average=\"weighted\"))\n",
    "    \n",
    "print(\"Precision: %.2f (+/- %.2f)\" % (np.mean(precisions), np.std(precisions)))\n",
    "print(\"Recall: %.2f (+/- %.2f)\" % (np.mean(recalls), np.std(recalls)))\n",
    "print(\"F1 Score: %.2f (+/- %.2f)\" % (np.mean(f1s), np.std(f1s)))\n",
    "    "
   ]
  }
 ],
 "metadata": {
  "accelerator": "GPU",
  "colab": {
   "collapsed_sections": [],
   "name": "DiagramModel_text_mc.ipynb",
   "provenance": [],
   "version": "0.3.2"
  },
  "kernelspec": {
   "display_name": "Python [default]",
   "language": "python",
   "name": "python3"
  },
  "language_info": {
   "codemirror_mode": {
    "name": "ipython",
    "version": 3
   },
   "file_extension": ".py",
   "mimetype": "text/x-python",
   "name": "python",
   "nbconvert_exporter": "python",
   "pygments_lexer": "ipython3",
   "version": "3.6.6"
  }
 },
 "nbformat": 4,
 "nbformat_minor": 2
}
