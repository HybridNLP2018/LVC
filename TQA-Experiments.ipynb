{
 "cells": [
  {
   "cell_type": "code",
   "execution_count": null,
   "metadata": {
    "colab": {},
    "colab_type": "code",
    "id": "Rdqcl1b2zrgM"
   },
   "outputs": [],
   "source": [
    "from aux_functions import tqa_data_extraction, tqa_data_refiner, get_tqa_model, get_tqa_sequence_lengths, get_dropouts\n",
    "from keras.preprocessing.text import Tokenizer\n",
    "from sklearn.model_selection import KFold\n",
    "from sklearn.metrics import f1_score, precision_score, recall_score\n",
    "from keras import optimizers\n",
    "from sklearn.metrics import classification_report"
   ]
  },
  {
   "cell_type": "markdown",
   "metadata": {
    "colab_type": "text",
    "id": "Vvv8rfLVKgQ2"
   },
   "source": [
    "## Experiment selection"
   ]
  },
  {
   "cell_type": "code",
   "execution_count": null,
   "metadata": {},
   "outputs": [],
   "source": [
    "#question_type = \"diagramQuestions\"\n",
    "question_type = \"nonDiagramQuestions\"\n",
    "\n",
    "#weights = \"cross\"\n",
    "weights = \"cross-vecsi\"\n",
    "\n",
    "print(\"Selected the \"+question_type+\" corpus and weights from \" +weights)"
   ]
  },
  {
   "cell_type": "markdown",
   "metadata": {
    "colab_type": "text",
    "id": "a7EFn6xjZUz4"
   },
   "source": [
    "## Input files and parameters"
   ]
  },
  {
   "cell_type": "code",
   "execution_count": null,
   "metadata": {
    "colab": {},
    "colab_type": "code",
    "collapsed": true,
    "id": "y_8xHOhHuEtj"
   },
   "outputs": [],
   "source": [
    "train_folder = \"./tqa_train_val_test/train/\"\n",
    "train_json = \"./tqa_train_val_test/train/tqa_v1_train.json\"\n",
    "test_folder = \"./tqa_train_val_test/test/\"\n",
    "test_json = \"./tqa_train_val_test/test/tqa_v2_test.json\"\n",
    "val_folder = \"./tqa_train_val_test/val/\"\n",
    "val_json = \"./tqa_train_val_test/val/tqa_v1_val.json\"\n",
    "\n",
    "dataset_jsons = [train_json,test_json,val_json]\n",
    "dataset_folders = [train_folder,test_folder,val_folder]\n",
    "\n",
    "dim = 100\n",
    "epochs = 10\n",
    "batchSize = 128\n",
    "dout, rdout = get_dropouts(question_type)\n",
    "context_length, question_length = get_tqa_sequence_lengths(question_type)"
   ]
  },
  {
   "cell_type": "markdown",
   "metadata": {
    "colab_type": "text",
    "id": "a7EFn6xjZUz4"
   },
   "source": [
    "## Loading corpus"
   ]
  },
  {
   "cell_type": "code",
   "execution_count": null,
   "metadata": {
    "colab": {
     "base_uri": "https://localhost:8080/",
     "height": 119
    },
    "colab_type": "code",
    "id": "MeU7f0YHuEtt",
    "outputId": "87851325-aae7-464d-ce84-694e10d47c78"
   },
   "outputs": [],
   "source": [
    "data, figures, correct_answers = tqa_data_extraction(dataset_folders, dataset_jsons, question_type)\n",
    "\n",
    "#Data_refining\n",
    "texts = []\n",
    "\n",
    "for i in range(len(data[0])):\n",
    "    for j in range(len(data)):\n",
    "        texts.append(data[j][i])\n",
    "\n",
    "tokenizer = Tokenizer()\n",
    "tokenizer.fit_on_texts(texts)\n",
    "\n",
    "# Get the vocabulary index\n",
    "word_index = tokenizer.word_index\n",
    "print(\"Found %s unique tokens.\" % len(word_index))\n",
    "\n",
    "x, y = tqa_data_refiner(data, figures, correct_answers,tokenizer, weights, context_length, question_length)"
   ]
  },
  {
   "cell_type": "markdown",
   "metadata": {},
   "source": [
    "## Training model (cross-validation)"
   ]
  },
  {
   "cell_type": "code",
   "execution_count": null,
   "metadata": {
    "colab": {},
    "colab_type": "code",
    "id": "I4S1Kvc1Ztbl"
   },
   "outputs": [],
   "source": [
    "kfold = KFold(n_splits=10, shuffle=True)\n",
    "precisions = []\n",
    "recalls = []\n",
    "f1s = []\n",
    "n_words = len(word_index)\n",
    "\n",
    "for train, test in kfold.split(x[0], y):\n",
    "    \n",
    "    x_train = []\n",
    "    x_test = []\n",
    "    for elem in x:\n",
    "        x_train.append(elem[train])\n",
    "        x_test.append(elem[test])\n",
    "    y_train = y[train]\n",
    "    y_test = y[test]\n",
    "    \n",
    "    model = get_tqa_model(n_words, dim, dout, rdout, context_length, question_length)\n",
    "    \n",
    "    adam = optimizers.Adam(lr=1e-2, decay=0.0)\n",
    "    model.compile(loss=\"categorical_crossentropy\", optimizer=adam, metrics=['categorical_accuracy'])\n",
    "    model.fit(x_train, y_train, batch_size=batchSize, epochs=epochs, validation_data=(x_test, y_test), verbose=1)\n",
    "    \n",
    "    pred = model.predict(x_test, batch_size=batchSize)\n",
    "    max_value = np.argmax(pred,axis=1)\n",
    "    predNew = np.zeros(np.shape(pred))\n",
    "    for i in range(len(predNew)):\n",
    "        predNew[i,max_value[i]]=1\n",
    "    print(classification_report(y_test, predNew, digits=4, target_names=[\"a\",\"b\",\"c\",\"d\"]))\n",
    "    precisions.append(precision_score(y_test, predNew, average=\"weighted\"))\n",
    "    recalls.append(recall_score(y_test, predNew, average=\"weighted\"))\n",
    "    f1s.append(f1_score(y_test, predNew, average=\"weighted\"))\n",
    "    \n",
    "print(\"Precision: %.2f (+/- %.2f)\" % (np.mean(precisions), np.std(precisions)))\n",
    "print(\"Recall: %.2f (+/- %.2f)\" % (np.mean(recalls), np.std(recalls)))\n",
    "print(\"F1 Score: %.2f (+/- %.2f)\" % (np.mean(f1s), np.std(f1s)))\n",
    "    "
   ]
  },
  {
   "cell_type": "code",
   "execution_count": null,
   "metadata": {
    "collapsed": true
   },
   "outputs": [],
   "source": []
  }
 ],
 "metadata": {
  "accelerator": "GPU",
  "colab": {
   "collapsed_sections": [],
   "name": "DiagramModel_text_mc.ipynb",
   "provenance": [],
   "version": "0.3.2"
  },
  "kernelspec": {
   "display_name": "Python 3",
   "language": "python",
   "name": "python3"
  },
  "language_info": {
   "codemirror_mode": {
    "name": "ipython",
    "version": 3
   },
   "file_extension": ".py",
   "mimetype": "text/x-python",
   "name": "python",
   "nbconvert_exporter": "python",
   "pygments_lexer": "ipython3",
   "version": "3.6.3"
  }
 },
 "nbformat": 4,
 "nbformat_minor": 2
}
